{
 "cells": [
  {
   "cell_type": "code",
   "execution_count": 1,
   "metadata": {},
   "outputs": [
    {
     "name": "stdout",
     "output_type": "stream",
     "text": [
      "   a  b  c\n",
      "0  1  2  3\n",
      "1  4  5  6\n",
      "2  7  8  9\n"
     ]
    }
   ],
   "source": [
    "import pandas as pd\n",
    "import numpy as np\n",
    "\n",
    "df = pd.DataFrame(np.array([[1, 2, 3], [4, 5, 6], [7, 8, 9]]), \n",
    "                columns=['a', 'b', 'c'])\n",
    "print(df)"
   ]
  },
  {
   "cell_type": "code",
   "execution_count": 2,
   "metadata": {},
   "outputs": [
    {
     "data": {
      "text/plain": "4"
     },
     "execution_count": 2,
     "metadata": {},
     "output_type": "execute_result"
    }
   ],
   "source": [
    "--4"
   ]
  },
  {
   "cell_type": "code",
   "execution_count": 13,
   "metadata": {},
   "outputs": [
    {
     "name": "stdout",
     "output_type": "stream",
     "text": [
      "olleh\n",
      "'range(0, 4)'\n"
     ]
    }
   ],
   "source": [
    "str1 = 'hello'\n",
    "print(f\"{str1[::-1]}\")\n",
    "print(f\"'{range(4)}'\")"
   ]
  },
  {
   "cell_type": "code",
   "execution_count": 15,
   "metadata": {},
   "outputs": [
    {
     "name": "stdout",
     "output_type": "stream",
     "text": [
      "11\n"
     ]
    }
   ],
   "source": [
    "sum = 0\n",
    "for k in range(5,7):\n",
    "  sum += k\n",
    "print(sum)"
   ]
  },
  {
   "cell_type": "code",
   "execution_count": 42,
   "metadata": {},
   "outputs": [
    {
     "name": "stdout",
     "output_type": "stream",
     "text": [
      "The biggest string is: beggh\n"
     ]
    }
   ],
   "source": [
    "s = 'azcbobobegghakl'\n",
    "current = s[0]\n",
    "longest = s[0] \n",
    "for letter in s[1:]:\n",
    "    if letter >= current[-1]:\n",
    "      current += letter\n",
    "      if len(current) > len(longest):\n",
    "        longest = current\n",
    "    else: \n",
    "      current = letter \n",
    "print(\"The biggest string is: \"+ longest)\n"
   ]
  },
  {
   "cell_type": "code",
   "execution_count": 46,
   "metadata": {},
   "outputs": [
    {
     "name": "stdout",
     "output_type": "stream",
     "text": [
      "Please think of a number between 0 and 100!\n",
      "Is your secrety number 50.0\n",
      "Enter 'h' to indicate the guess is too high. Enter 'l' to indicate the guess is too low. Enter 'c' to indicate I guessed correctly.\n",
      "Is your secrety number 75.0\n",
      "Enter 'h' to indicate the guess is too high. Enter 'l' to indicate the guess is too low. Enter 'c' to indicate I guessed correctly.\n",
      "Is your secrety number 62.5\n",
      "Enter 'h' to indicate the guess is too high. Enter 'l' to indicate the guess is too low. Enter 'c' to indicate I guessed correctly.\n",
      "Is your secrety number 68.75\n",
      "Enter 'h' to indicate the guess is too high. Enter 'l' to indicate the guess is too low. Enter 'c' to indicate I guessed correctly.\n",
      "Is your secrety number 65.625\n",
      "Enter 'h' to indicate the guess is too high. Enter 'l' to indicate the guess is too low. Enter 'c' to indicate I guessed correctly.\n",
      "Is your secrety number 67.1875\n",
      "Enter 'h' to indicate the guess is too high. Enter 'l' to indicate the guess is too low. Enter 'c' to indicate I guessed correctly.\n",
      "Is your secrety number 66.40625\n",
      "Enter 'h' to indicate the guess is too high. Enter 'l' to indicate the guess is too low. Enter 'c' to indicate I guessed correctly.\n",
      "Is your secrety number 66.796875\n",
      "Enter 'h' to indicate the guess is too high. Enter 'l' to indicate the guess is too low. Enter 'c' to indicate I guessed correctly.\n",
      "Is your secrety number 66.6015625\n",
      "Enter 'h' to indicate the guess is too high. Enter 'l' to indicate the guess is too low. Enter 'c' to indicate I guessed correctly.\n",
      "Game over. Your secret number was: 66.6015625\n"
     ]
    }
   ],
   "source": [
    "#Fun bisection search to guess the number of a person from 0 to 100 - not including 100.\n",
    "print(\"Please think of a number between 0 and 100!\")\n",
    "highest = 100\n",
    "lowest = 0\n",
    "average = (highest+lowest)//2\n",
    "while True:\n",
    "  print(f\"Is your secret number {average}?\")\n",
    "  print(\"Enter 'h' to indicate the guess is too high.\", end=\" \") \n",
    "  print(\"Enter 'l' to indicate the guess is too low.\", end=\" \") \n",
    "  print(\"Enter 'c' to indicate I guessed correctly.\")\n",
    "  parameter = input(\"Type here\")\n",
    "  if parameter == \"c\":\n",
    "    print(f\"Game over. Your secret number was: {average}\")\n",
    "    break\n",
    "  elif parameter == \"l\":\n",
    "    lowest = average \n",
    "    average = (highest+lowest)//2\n",
    "  elif parameter == \"h\":\n",
    "    highest = average\n",
    "    average = (highest+lowest)//2\n",
    "  else:\n",
    "    print(\"Sorry, I couldn't understand what you said!\")\n",
    "\n"
   ]
  },
  {
   "cell_type": "code",
   "execution_count": 17,
   "metadata": {},
   "outputs": [
    {
     "data": {
      "text/plain": "False"
     },
     "execution_count": 17,
     "metadata": {},
     "output_type": "execute_result"
    }
   ],
   "source": [
    "def isIn(char, aStr):\n",
    "  if char == aStr[len(aStr)//2]:\n",
    "    return True\n",
    "  elif aStr == '':  \n",
    "    return False\n",
    "  elif len(aStr)==1: \n",
    "    return char == aStr \n",
    "  elif char<aStr[len(aStr)//2]:\n",
    "    return isIn(char, aStr[:len(aStr)//2])\n",
    "  else:\n",
    "    return isIn(char, aStr[len(aStr)//2:])   \n",
    "  return isIn(char, aStr)\n",
    " \n",
    "\n",
    "\n",
    "\n",
    "isIn(\"d\",\"abc\")"
   ]
  },
  {
   "cell_type": "code",
   "execution_count": 31,
   "metadata": {},
   "outputs": [
    {
     "name": "stdout",
     "output_type": "stream",
     "text": [
      "Remaining balance is:  361.61\n"
     ]
    }
   ],
   "source": [
    "balance = 484\n",
    "annualInterestRate = 0.2\n",
    "monthlyPaymentRate = 0.04\n",
    "\n",
    "def annualBalance(balance, annualInterestRate, monthlyPaymentRate):\n",
    "  #Monthly interest rate= (Annual interest rate) / 12.0\n",
    "  #Minimum monthly payment = (Minimum monthly payment rate) x (Previous balance)\n",
    "  #Monthly unpaid balance = (Previous balance) - (Minimum monthly payment)\n",
    "  #Updated balance each month = (Monthly unpaid balance) + (Monthly interest rate x Monthly unpaid balance)\n",
    "  for i in range(12):\n",
    "    monthlyInterestRate = annualInterestRate/12.0\n",
    "    minMonthlyPayment = monthlyPaymentRate*balance\n",
    "    monthlyUnpaidBalance = (balance-minMonthlyPayment)\n",
    "    updatedBalance = monthlyUnpaidBalance+(monthlyInterestRate*monthlyUnpaidBalance)\n",
    "    balance = updatedBalance\n",
    "  \n",
    "  print(\"Remaining balance is: \", round(balance,2))\n",
    "\n",
    "annualBalance(balance, annualInterestRate, monthlyPaymentRate)\n"
   ]
  },
  {
   "cell_type": "code",
   "execution_count": 39,
   "metadata": {},
   "outputs": [
    {
     "name": "stdout",
     "output_type": "stream",
     "text": [
      "('I', 'a', 'tuple')\n"
     ]
    }
   ],
   "source": [
    "x = ('I', 'am', 'a', 'test', 'tuple')\n",
    "print(x[::2])"
   ]
  },
  {
   "cell_type": "code",
   "execution_count": 22,
   "metadata": {},
   "outputs": [
    {
     "name": "stdout",
     "output_type": "stream",
     "text": [
      "False\n"
     ]
    }
   ],
   "source": [
    "a = {'a': 'aardvark', 'b': 'baboon', 'c': 'coati', 'd':'donkey'}\n",
    "print('baboon' in a)"
   ]
  },
  {
   "cell_type": "code",
   "execution_count": 23,
   "metadata": {},
   "outputs": [
    {
     "data": {
      "text/plain": "3"
     },
     "execution_count": 23,
     "metadata": {},
     "output_type": "execute_result"
    }
   ],
   "source": [
    "def how_many(aDict):\n",
    "    '''\n",
    "    aDict: A dictionary, where all the values are lists.\n",
    "\n",
    "    returns: int, how many values are in the dictionary.\n",
    "    '''\n",
    "    # Your Code Here\n",
    "    return len(aDict.values())\n",
    "how_many({'a':[1],'b':[2],'c':[2,3,4,[3],[4]]})"
   ]
  },
  {
   "cell_type": "code",
   "execution_count": 39,
   "metadata": {},
   "outputs": [
    {
     "name": "stdout",
     "output_type": "stream",
     "text": [
      "a\n"
     ]
    }
   ],
   "source": [
    "animals = { 'a': ['aardvark'], 'b': ['baboon'], 'c': ['coati']}\n",
    "\n",
    "animals['d'] = ['donkey']\n",
    "animals['d'].append('dog')\n",
    "animals['d'].append('dingo')\n",
    "def how_many(aDict):\n",
    "    '''\n",
    "    aDict: A dictionary, where all the values are lists.\n",
    "\n",
    "    returns: int, how many values are in the dictionary.\n",
    "    '''\n",
    "    # Your Code Here\n",
    "    total = 0\n",
    "    for k in aDict.values():\n",
    "        total += len(k)\n",
    "    return total\n",
    "how_many(animals)\n",
    "a = animals.keys()\n",
    "print(list(a)[0])"
   ]
  },
  {
   "cell_type": "code",
   "execution_count": 40,
   "metadata": {},
   "outputs": [
    {
     "data": {
      "text/plain": "'d'"
     },
     "execution_count": 40,
     "metadata": {},
     "output_type": "execute_result"
    }
   ],
   "source": [
    "animals = { 'a': ['aardvark'], 'b': ['baboon'], 'c': ['coati']}\n",
    "\n",
    "animals['d'] = ['donkey']\n",
    "animals['d'].append('dog')\n",
    "animals['d'].append('dingo')\n",
    "def biggest(aDict):\n",
    "    '''\n",
    "    aDict: A dictionary, where all the values are lists.\n",
    "\n",
    "    returns: The key with the largest number of values associated with it\n",
    "    '''\n",
    "    # Your Code Here\n",
    "    result = list(animals.keys())[0]\n",
    "    for k in aDict.keys():\n",
    "        if len(aDict[k])>=len(aDict[result[0]]):\n",
    "            result = k  \n",
    "        else:\n",
    "            next\n",
    "    return result[0]\n",
    "biggest(animals)\n",
    "            "
   ]
  },
  {
   "cell_type": "code",
   "execution_count": 2,
   "metadata": {},
   "outputs": [
    {
     "name": "stdout",
     "output_type": "stream",
     "text": [
      "1\n",
      "0\n",
      "0\n",
      "1\n",
      "0\n"
     ]
    }
   ],
   "source": [
    "def fancy_divide(numbers, index):\n",
    "    try:\n",
    "        try:\n",
    "            denom = numbers[index]\n",
    "            for i in range(len(numbers)):\n",
    "                numbers[i] /= denom\n",
    "        except IndexError:\n",
    "            fancy_divide(numbers, len(numbers) - 1)\n",
    "        else:\n",
    "            print(\"1\")\n",
    "        finally:\n",
    "            print(\"0\")\n",
    "    except ZeroDivisionError:\n",
    "        print(\"-2\")\n",
    "fancy_divide([0, 2, 4], 2) #it prints 1 0 \n",
    "fancy_divide([0, 2, 4], 4) # it prints 1 0 0 because it prints 1 0 from the example above,\n",
    "#and it prints the last 0 because when the code above was executed, the code inside try had \n",
    "#not been fully run. So, after above runs, the first code finishes running\n"
   ]
  },
  {
   "cell_type": "code",
   "execution_count": 7,
   "metadata": {},
   "outputs": [
    {
     "name": "stdout",
     "output_type": "stream",
     "text": [
      "0\n"
     ]
    }
   ],
   "source": [
    "def fancy_divide(list_of_numbers, index):\n",
    "    try:\n",
    "        try:\n",
    "            denom = list_of_numbers[index]\n",
    "            for i in range(len(list_of_numbers)):\n",
    "                list_of_numbers[i] /= denom\n",
    "        finally:\n",
    "            raise Exception(\"0\")\n",
    "    except Exception as ex:\n",
    "        print(ex)\n",
    "fancy_divide([0, 2, 4], 0)"
   ]
  },
  {
   "cell_type": "code",
   "execution_count": 28,
   "metadata": {},
   "outputs": [
    {
     "name": "stdout",
     "output_type": "stream",
     "text": [
      "['a', 'd', 'm', 's', 'k', 'd', 'j', 'n', 's', 'j', 'k', 's', 's', 'k', 'a', 'a', 's', 'a', 'a']\n"
     ]
    }
   ],
   "source": [
    "a = \"admskdjnsjksskaasaa\"\n",
    "print(list(a))"
   ]
  },
  {
   "cell_type": "code",
   "execution_count": 54,
   "metadata": {},
   "outputs": [
    {
     "name": "stdout",
     "output_type": "stream",
     "text": [
      "{'a': 2, 'r': 1}\n"
     ]
    },
    {
     "data": {
      "text/plain": "True"
     },
     "execution_count": 54,
     "metadata": {},
     "output_type": "execute_result"
    }
   ],
   "source": [
    "def isValidWord(word, hand):\n",
    "    \"\"\"\n",
    "    Returns True if word is in the wordList and is entirely\n",
    "    composed of letters in the hand. Otherwise, returns False.\n",
    "\n",
    "    Does not mutate hand or wordList.\n",
    "   \n",
    "    word: string\n",
    "    hand: dictionary (string -> int)\n",
    "    wordList: list of lowercase strings\n",
    "    \"\"\"\n",
    "    #Check first if the word is in the word list:\n",
    "    new_d = {}\n",
    "    #if word in wordList:\n",
    "    for letter in word:\n",
    "        new_d[letter] = new_d.get(letter,0) + 1\n",
    "    print(new_d)\n",
    "    for k in new_d.keys():\n",
    "        try:\n",
    "            if new_d[k] <= hand[k]:\n",
    "                pass\n",
    "            else:\n",
    "                return False\n",
    "        except:\n",
    "            return False\n",
    "    return True\n",
    "        \n",
    "#isValidWord('rapture',{'r': 1, 'a': 3, 'p': 2, 'e': 1, 't': 1, 'u': 1})\n",
    "isValidWord('aar',{'r': 4, 'a': 3})\n",
    "\n",
    "#isValidWord(\"honey\",{'r': 1, 'a': 3, 'p': 2, 't': 1, 'u':2})\n",
    "\n",
    "#isValidWord('rapture',{'r': 1, 'a': 3, 'p': 2, 'e': 1, 't': 1, 'u': 1})"
   ]
  },
  {
   "cell_type": "code",
   "execution_count": 60,
   "metadata": {},
   "outputs": [
    {
     "name": "stdout",
     "output_type": "stream",
     "text": [
      "a b b b b \n"
     ]
    }
   ],
   "source": [
    "def displayHand(hand):\n",
    "    \"\"\"\n",
    "    Displays the letters currently in the hand.\n",
    "\n",
    "    For example:\n",
    "    >>> displayHand({'a':1, 'x':2, 'l':3, 'e':1})\n",
    "    Should print out something like:\n",
    "       a x x l l l e\n",
    "    The order of the letters is unimportant.\n",
    "\n",
    "    hand: dictionary (string -> int)\n",
    "    \"\"\"\n",
    "    for letter in hand.keys():\n",
    "        for j in range(hand[letter]):\n",
    "             print(letter,end=\" \")       # print all on the same line\n",
    "    print()   \n",
    "displayHand({\"a\":1,\"b\":4})"
   ]
  },
  {
   "cell_type": "code",
   "execution_count": 12,
   "metadata": {},
   "outputs": [
    {
     "name": "stdout",
     "output_type": "stream",
     "text": [
      "[1]\n",
      "[1]\n",
      "[1]\n",
      "[1]\n",
      "[1]\n"
     ]
    }
   ],
   "source": [
    "def someFunction():\n",
    "    a = []\n",
    "    def getInput():\n",
    "        let = input(\"type in\")\n",
    "        return let\n",
    "    \n",
    "    \n",
    "    count = 0\n",
    "    if getInput() == \"a\":\n",
    "        count += 1\n",
    "        a = [count]\n",
    "        print(a)\n",
    "        return someFunction()\n",
    "    else:\n",
    "        return None\n",
    "someFunction()"
   ]
  },
  {
   "cell_type": "code",
   "execution_count": 19,
   "metadata": {},
   "outputs": [
    {
     "ename": "IndentationError",
     "evalue": "unindent does not match any outer indentation level (<tokenize>, line 6)",
     "output_type": "error",
     "traceback": [
      "\u001b[0;36m  File \u001b[0;32m\"<tokenize>\"\u001b[0;36m, line \u001b[0;32m6\u001b[0m\n\u001b[0;31m    print(self.time)\u001b[0m\n\u001b[0m    ^\u001b[0m\n\u001b[0;31mIndentationError\u001b[0m\u001b[0;31m:\u001b[0m unindent does not match any outer indentation level\n"
     ]
    }
   ],
   "source": [
    "class Clock(object):\n",
    "    def __init__(self, time):\n",
    "\t      self.time = time\n",
    "    def print_time(self):\n",
    "\t      time = '6:30'\n",
    "    \t  print(self.time)\n",
    "\n",
    "clock = Clock('5:30')\n",
    "clock.print_time()\n",
    "#prints 5:30"
   ]
  },
  {
   "cell_type": "code",
   "execution_count": 29,
   "metadata": {},
   "outputs": [
    {
     "name": "stdout",
     "output_type": "stream",
     "text": [
      "{}\n",
      "{}\n"
     ]
    }
   ],
   "source": [
    "class intSet(object):\n",
    "    \"\"\"An intSet is a set of integers\n",
    "    The value is represented by a list of ints, self.vals.\n",
    "    Each int in the set occurs in self.vals exactly once.\"\"\"\n",
    "\n",
    "    def __init__(self):\n",
    "        \"\"\"Create an empty set of integers\"\"\"\n",
    "        self.vals = []\n",
    "\n",
    "    def insert(self, e):\n",
    "        \"\"\"Assumes e is an integer and inserts e into self\"\"\" \n",
    "        if not e in self.vals:\n",
    "            self.vals.append(e)\n",
    "\n",
    "    def member(self, e):\n",
    "        \"\"\"Assumes e is an integer\n",
    "           Returns True if e is in self, and False otherwise\"\"\"\n",
    "        return e in self.vals\n",
    "\n",
    "    def remove(self, e):\n",
    "        \"\"\"Assumes e is an integer and removes e from self\n",
    "           Raises ValueError if e is not in self\"\"\"\n",
    "        try:\n",
    "            self.vals.remove(e)\n",
    "        except:\n",
    "            raise ValueError(str(e) + ' not found')\n",
    "\n",
    "    def __str__(self):\n",
    "        \"\"\"Returns a string representation of self\"\"\"\n",
    "        self.vals.sort()\n",
    "        return '{' + ','.join([str(e) for e in self.vals]) + '}'\n",
    "    \n",
    "    def intersect(self, other):\n",
    "        \"\"\"Define an intersect method that returns a new intSet containing elements that appear in both sets.\"\"\"\n",
    "        newSet = intSet()\n",
    "        for e in self.vals:\n",
    "          if other.member(e):\n",
    "            newSet.insert(e)\n",
    "        if newSet == []:\n",
    "          return []\n",
    "        return newSet\n",
    "\n",
    "\n",
    "\n",
    "a = intSet()\n",
    "b = intSet()\n",
    "print(a)\n",
    "a.insert(2)\n",
    "a.insert(3)\n",
    "a.insert(4)\n",
    "a.insert(5)\n",
    "b.insert(6)\n",
    "b.insert(7)\n",
    "print(a.intersect(b))\n"
   ]
  },
  {
   "cell_type": "code",
   "execution_count": 24,
   "metadata": {},
   "outputs": [
    {
     "name": "stdout",
     "output_type": "stream",
     "text": [
      "['a', 'b', 'c', 'd']\n",
      "d\n",
      "['b', 'd']\n"
     ]
    }
   ],
   "source": [
    "example = {1:\"a\",2:\"b\",3:\"c\",4:\"d\"}\n",
    "word = 'ca'\n",
    "array_n = list(example.values())\n",
    "array_k = example.keys()\n",
    "print(array_n)\n",
    "print(example[4])\n",
    "for letter in word:\n",
    "  if letter in array_n:\n",
    "    array_n.remove(letter)\n",
    "  else:\n",
    "    print(False)\n",
    "print(array_n)"
   ]
  },
  {
   "cell_type": "code",
   "execution_count": 32,
   "metadata": {},
   "outputs": [
    {
     "name": "stdout",
     "output_type": "stream",
     "text": [
      "1\n"
     ]
    }
   ],
   "source": [
    "for i in range(1,2):\n",
    "    print(i)"
   ]
  },
  {
   "cell_type": "code",
   "execution_count": 60,
   "metadata": {},
   "outputs": [
    {
     "name": "stdout",
     "output_type": "stream",
     "text": [
      "<generator object primeNumbers at 0x7f7d2bbf4040>\n"
     ]
    },
    {
     "data": {
      "text/plain": "3"
     },
     "execution_count": 60,
     "metadata": {},
     "output_type": "execute_result"
    }
   ],
   "source": [
    "def primeNumbers():\n",
    "    initial = 2\n",
    "    while True:\n",
    "        count = 1\n",
    "        for x in range(1,initial):\n",
    "            if (initial % x) != 0:\n",
    "                count = count + 1 \n",
    "            if count == (initial - 1):\n",
    "                next = initial\n",
    "                yield next\n",
    "        initial = initial + 1 \n",
    "foo = primeNumbers()\n",
    "print(foo)\n",
    "foo.__next__()\n",
    "foo.__next__()\n"
   ]
  }
 ],
 "metadata": {
  "kernelspec": {
   "display_name": "Python 3.8.8 64-bit ('base': conda)",
   "name": "python388jvsc74a57bd0d7f7d34df146e5333e51b176eee969b0e4d685dca3c165dc2ffa9917ceb9357d"
  },
  "language_info": {
   "codemirror_mode": {
    "name": "ipython",
    "version": 3
   },
   "file_extension": ".py",
   "mimetype": "text/x-python",
   "name": "python",
   "nbconvert_exporter": "python",
   "pygments_lexer": "ipython3",
   "version": "3.8.8"
  },
  "orig_nbformat": 2
 },
 "nbformat": 4,
 "nbformat_minor": 2
}