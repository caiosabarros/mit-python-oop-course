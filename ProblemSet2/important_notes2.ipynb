{
 "cells": [
  {
   "cell_type": "code",
   "execution_count": null,
   "metadata": {},
   "outputs": [],
   "source": [
    "#Fun bisection search to guess the number of a person from 0 to 100 - not including 100.\n",
    "\n",
    "highest = 100\n",
    "lowest = 0\n",
    "average = (highest+lowest)//2\n",
    "print(\"Please think of a number between 0 and 100!\")\n",
    "while True:\n",
    "  print(\"Is your secret number\",average,\"?\")\n",
    "  print(\"Enter 'h' to indicate the guess is too high.\", end=\" \") \n",
    "  print(\"Enter 'l' to indicate the guess is too low.\", end=\" \") \n",
    "  print(\"Enter 'c' to indicate I guessed correctly.\",end=\" \")\n",
    "  parameter = input(\"\")\n",
    "  if parameter == \"c\":\n",
    "    print(\"Game over. Your secret number was: \",average,\"?\")\n",
    "    break\n",
    "  elif parameter == \"l\":\n",
    "    lowest = average \n",
    "    average = (highest+lowest)//2\n",
    "  elif parameter == \"h\":\n",
    "    highest = average\n",
    "    average = (highest+lowest)//2\n",
    "  else:\n",
    "    print(\"Sorry, I did not understand your input.\")\n",
    "   "
   ]
  },
  {
   "cell_type": "code",
   "execution_count": null,
   "metadata": {},
   "outputs": [],
   "source": [
    "def iterPower(base, exp):\n",
    "    '''\n",
    "    base: int or float.\n",
    "    exp: int >= 0\n",
    " \n",
    "    returns: int or float, base^exp\n",
    "    '''\n",
    "    a = base\n",
    "    if exp == 0:\n",
    "        return 1\n",
    "    else:\n",
    "        while exp>1:\n",
    "            base *=a\n",
    "            exp-=1\n",
    "        return base"
   ]
  },
  {
   "cell_type": "code",
   "execution_count": null,
   "metadata": {},
   "outputs": [],
   "source": [
    "def recurPower(base, exp):\n",
    "    '''\n",
    "    base: int or float.\n",
    "    exp: int >= 0\n",
    " \n",
    "    returns: int or float, base^exp\n",
    "    '''\n",
    "    if exp == 0:\n",
    "        return 1\n",
    "    else:\n",
    "        return base*recurPower(base, exp-1)"
   ]
  },
  {
   "cell_type": "code",
   "execution_count": null,
   "metadata": {},
   "outputs": [],
   "source": [
    "def gcdIter(a, b):\n",
    "    '''\n",
    "    a, b: positive integers\n",
    "    \n",
    "    returns: a positive integer, the greatest common divisor of a & b.\n",
    "    '''\n",
    "    if a<=b:\n",
    "        c = a\n",
    "        while a>=1:\n",
    "            if b%a==0 and c%a==0:\n",
    "                return a\n",
    "            a-=1\n",
    "    else:\n",
    "        c = b\n",
    "        while b>=1:\n",
    "            if a%b==0 and c%b==0:\n",
    "                return b\n",
    "            b-=1"
   ]
  },
  {
   "cell_type": "code",
   "execution_count": null,
   "metadata": {},
   "outputs": [],
   "source": [
    "def gcdRecur(a, b):\n",
    "    '''\n",
    "    a, b: positive integers\n",
    "    \n",
    "    returns: a positive integer, the greatest common divisor of a & b.\n",
    "    '''\n",
    "    if b==0:\n",
    "        return a\n",
    "    else:\n",
    "        return gcdRecur(b, a%b)"
   ]
  },
  {
   "cell_type": "code",
   "execution_count": null,
   "metadata": {},
   "outputs": [],
   "source": [
    "def isIn(char, aStr):\n",
    "  if len(aStr)==0:  \n",
    "    return False\n",
    "  elif char == aStr[len(aStr)//2]:\n",
    "    return True\n",
    "  elif len(aStr)==0:  \n",
    "    return False\n",
    "  elif len(aStr)==1: \n",
    "    return char == aStr \n",
    "  elif char<aStr[len(aStr)//2]:\n",
    "    return isIn(char, aStr[:len(aStr)//2])\n",
    "  else:\n",
    "    return isIn(char, aStr[len(aStr)//2:])   \n",
    "  return isIn(char, aStr)"
   ]
  }
 ],
 "metadata": {
  "kernelspec": {
   "display_name": "Python 3.9.6 64-bit",
   "name": "python396jvsc74a57bd036cf16204b8548560b1c020c4e8fb5b57f0e4c58016f52f2d4be01e192833930"
  },
  "language_info": {
   "name": "python",
   "version": ""
  },
  "metadata": {
   "interpreter": {
    "hash": "36cf16204b8548560b1c020c4e8fb5b57f0e4c58016f52f2d4be01e192833930"
   }
  },
  "orig_nbformat": 2
 },
 "nbformat": 4,
 "nbformat_minor": 2
}